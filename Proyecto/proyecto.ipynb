{
 "cells": [
  {
   "cell_type": "markdown",
   "metadata": {},
   "source": [
    "<center>\n",
    "\n",
    "# Universidad de Costa Rica\n",
    "\n",
    "## Facultad de Ingeniería\n",
    "## Escuela de Ingeniería Eléctrica\n",
    "## Bachillerato en Ingeniería Eléctrica\n",
    "## IE-0247 Señales y Sistemas I\n",
    "## II ciclo 2023\n",
    "#\n",
    "## Proyecto 1\n",
    "#\n",
    "## José Andrés Guerrero Álvarez – B63162\n",
    "## Grupo 01\n",
    "\n",
    "## Profesor: \n",
    "## Marvin Coto Jiménez\n",
    "\n",
    "## 10 de setiembre del 2023\n",
    "\n",
    "</center>\n"
   ]
  },
  {
   "cell_type": "markdown",
   "metadata": {},
   "source": [
    "<div style=\"text-align: justify;\">\n",
    "<p>\n",
    "\n",
    "# I. Introducción y contextualización\n",
    "\n",
    "Los electrocardiogramas (ECG) son una herramienta esencial en el campo de la cardiología y la atención médica en general. Se utilizan para rastrear la salud de nuestro corazón, proporcionando información crucial sobre su funcionamiento. Sin embargo, la interpretación manual de estas señales, a pesar de su importancia, presenta desafíos considerables (Kachuee et al., 2018).\n",
    "\n",
    "Detectar y clasificar las diversas formas y patrones presentes en las señales de ECG puede ser una tarea complicada para los profesionales de la salud. Esto se debe a que las señales de ECG son complejas y cambiantes, y un diagnóstico preciso a menudo requiere tiempo y experiencia (Garcia, 2016).\n",
    "\n",
    "El problema principal radica en que la interpretación manual de estas señales no solo es propensa a errores humanos, sino que también puede ser un proceso extremadamente demorado. Esto puede resultar en retrasos en el diagnóstico y, en algunos casos, llevar a decisiones médicas menos efectivas. Es crucial tener en cuenta que las enfermedades cardiovasculares son una de las principales causas de muerte a nivel global, y la detección temprana y precisa es fundamental para mejorar los resultados de los pacientes.\n",
    "\n",
    "Entre estas enfermedades, los ritmos cardíacos irregulares, como las arritmias, pueden ser particularmente peligrosos y difíciles de identificar (Kachuee et al., 2018).\n",
    "\n",
    "## Retos en la interpretación manual de señales de ECG\n",
    "\n",
    "Para abordar estos desafíos, se ha explorado el potencial de la automatización en el análisis de las señales de ECG. Una solución prometedora involucra el uso de la inteligencia artificial y el aprendizaje automático, donde una máquina es entrenada para aprender de un gran número de señales de ECG y predecir diferentes eventos cardíacos, como los infartos al miocardio (IM). Esta aproximación ha demostrado ser eficaz en estudios anteriores y tiene el potencial de mejorar significativamente la eficiencia y la precisión en el diagnóstico cardíaco (Kachuee et al., 2018).\n",
    "\n",
    "## Aprovechamiento del aprendizaje profundo\n",
    "\n",
    "En este contexto, se presenta un enfoque innovador que emplea el aprendizaje profundo para analizar las señales de ECG. Este enfoque permite que la máquina aprenda automáticamente a identificar patrones y características clave en las señales de ECG, lo que puede llevar a diagnósticos más rápidos y precisos en comparación con los métodos tradicionales. Además, se explora la idea de que el conocimiento adquirido por la máquina en una tarea específica, como la detección de arritmias, puede ser transferido con éxito a otras tareas relacionadas, como la predicción de IM, lo que abre nuevas perspectivas para la mejora de la atención médica y la identificación temprana de problemas cardíacos (Kachuee et al., 2018).\n",
    "</p>\n",
    "</div>"
   ]
  },
  {
   "cell_type": "markdown",
   "metadata": {},
   "source": [
    "A continuacion se muestran realizan diferentes tareas, para esta sección (y las siguientes secciones) se adapta el código publicado por Pulido y McKiernan (2020)."
   ]
  },
  {
   "cell_type": "markdown",
   "metadata": {},
   "source": [
    "# II.\tRespuestas\n",
    "# Parte 1: Graficación de señales"
   ]
  },
  {
   "cell_type": "code",
   "execution_count": 3,
   "metadata": {},
   "outputs": [],
   "source": [
    "# Imports python libraries\n",
    "import numpy as np\n",
    "import random as rd\n",
    "import wave\n",
    "import sys\n",
    "import matplotlib.pyplot as plt\n",
    "from matplotlib.pyplot import figure\n",
    "from scipy.signal import butter, lfilter, filtfilt #for filtering data\n",
    "from statistics import stdev\n",
    "sys.path.insert(1, r'./../functions') # add to pythonpath\n"
   ]
  },
  {
   "cell_type": "code",
   "execution_count": 6,
   "metadata": {},
   "outputs": [],
   "source": [
    "# commands to create high-resolution figures with large labels\n",
    "plt.rcParams['axes.labelsize'] = 16 # fontsize for figure labels\n",
    "plt.rcParams['axes.titlesize'] = 18 # fontsize for figure titles\n",
    "plt.rcParams['font.size'] = 14 # fontsize for figure numbers\n",
    "plt.rcParams['lines.linewidth'] = 1.4 # line width for plotting"
   ]
  },
  {
   "cell_type": "code",
   "execution_count": 7,
   "metadata": {},
   "outputs": [],
   "source": [
    "#Function that extracts the number of recording channels, sampling rate, time and signal\n",
    "#variable is the path and filename of the .wav file\n",
    "def ecg(variable):\n",
    "    record = wave.open(variable, 'r') # load the data\n",
    "\n",
    "    # Get the number of channels, sample rate, etc.\n",
    "    numChannels = record.getnchannels() #number of channels\n",
    "    numFrames = record.getnframes() #number of frames\n",
    "    sampleRate = record.getframerate() #sampling rate\n",
    "    sampleWidth = record.getsampwidth()\n",
    "\n",
    "    # Get wave data\n",
    "    dstr = record.readframes(numFrames * numChannels)\n",
    "    waveData = np.frombuffer(dstr, np.int16)\n",
    "\n",
    "    # Get time window\n",
    "    timeECG = np.linspace(0, len(waveData)/sampleRate, num=len(waveData))\n",
    "    \n",
    "    return timeECG, waveData"
   ]
  },
  {
   "cell_type": "code",
   "execution_count": 9,
   "metadata": {},
   "outputs": [],
   "source": [
    "### Arreglo con el nombre de los archivos.wav\n",
    "nice = [\"f0001\",\"f0002\",\"f0003\",\"f0004\",\"f0005\",\"f0006\",\"f0007\",\"f0008\",\"f0009\",\"f0010\",\"f0011\",\"f0012\",\"f0013\",\"f0014\",\"f0015\"]"
   ]
  },
  {
   "cell_type": "markdown",
   "metadata": {},
   "source": [
    "En la seccion anterios lo que se hizo fue agregar el nombre de cada uno de los archivos .wav de forma que cuando el for de la siguiente seccion recorre la lista de cadenas (strings) accede a cada uno de los nombres de ellos. Ademas tambien se agrega max_amplitud y se imprime sus valores en pantalla."
   ]
  },
  {
   "cell_type": "code",
   "execution_count": null,
   "metadata": {},
   "outputs": [],
   "source": [
    "#Test data\n",
    "\n",
    "for i in range(0, len(nice)): #Este for muestra los graficos de cada señal\n",
    "    timeECG, waveData = ecg(nice[i]+'.wav')\n",
    "    # Plotting EMG signal\n",
    "    plt.figure(figsize=(18,6))\n",
    "    plt.xlabel(r'time (s)')\n",
    "    plt.ylabel(r'voltage ($\\mu$V)')\n",
    "    plt.plot(timeECG,waveData, 'b')\n",
    "    plt.title(nice[i])\n",
    "    plt.show()\n",
    "    # Calcular la amplitud máxima\n",
    "    max_amplitude = np.max(waveData)\n",
    "    # Imprimir el valor máximo\n",
    "    print(nice[i]+'.wav '+\"Amplitud Máxima:\", max_amplitude)"
   ]
  },
  {
   "cell_type": "markdown",
   "metadata": {},
   "source": [
    "![Gráfico 1.  Representación de onda del archivo f0001.](f0001.png)\n",
    "Gráfico 1.  Representación de onda del archivo f0001.\n",
    "![Gráfico 2.  Representación de onda del archivo f0002.](f0002.png)\n",
    "Gráfico 2.  Representación de onda del archivo f0002.\n",
    "![Gráfico 3.  Representación de onda del archivo f0003.](f0003.png)\n",
    "Gráfico 3.  Representación de onda del archivo f0003.\n",
    "![Gráfico 4.  Representación de onda del archivo f0004.](f0004.png)\n",
    "Gráfico 4.  Representación de onda del archivo f0004.\n",
    "![Gráfico 5.  Representación de onda del archivo f0005.](f0005.png)\n",
    "Gráfico 5.  Representación de onda del archivo f0005.\n",
    "![Gráfico 6.  Representación de onda del archivo f0006.](f0006.png)\n",
    "Gráfico 6.  Representación de onda del archivo f0006.\n",
    "![Gráfico 7.  Representación de onda del archivo f0007.](f0007.png)\n",
    "Gráfico 7.  Representación de onda del archivo f0007.\n",
    "![Gráfico 8.  Representación de onda del archivo f0008.](f0008.png)\n",
    "Gráfico 8.  Representación de onda del archivo f0008.\n",
    "![Gráfico 9.  Representación de onda del archivo f0009.](f0009.png)\n",
    "Gráfico 9.  Representación de onda del archivo f0009.\n",
    "![Gráfico 10.  Representación de onda del archivo f0010.](f0010.png)\n",
    "Gráfico 10.  Representación de onda del archivo f0010.\n",
    "![Gráfico 11.  Representación de onda del archivo f0011.](f0011.png)\n",
    "Gráfico 11.  Representación de onda del archivo f0011.\n",
    "![Gráfico 12.  Representación de onda del archivo f0012.](f0012.png)\n",
    "Gráfico 12.  Representación de onda del archivo f0012.\n",
    "![Gráfico 13.  Representación de onda del archivo f0013.](f0013.png)\n",
    "Gráfico 13.  Representación de onda del archivo f0013.\n",
    "![Gráfico 14.  Representación de onda del archivo f0014.](f0014.png)\n",
    "Gráfico 14.  Representación de onda del archivo f0014.\n",
    "![Gráfico 15.  Representación de onda del archivo f0015.](f0015.png)\n",
    "Gráfico 15.  Representación de onda del archivo f0015."
   ]
  },
  {
   "cell_type": "markdown",
   "metadata": {},
   "source": [
    "<div style=\"text-align: justify;\">\n",
    "<p>\n",
    "\n",
    "## a. ¿Cuál es la mayor amplitud presente en los datos?\n",
    "\n",
    "Como se puede observar en la figura 1 parte b, se creó una variable llamada `max_amplitud` que contiene la amplitud máxima de cada onda, extraída mediante la función `np.max(waveData)`. Esto equivale a la amplitud máxima de cada archivo. Gracias a esto, se puede determinar que la f0005.wav es la que tiene la mayor amplitud (32767 μV).\n",
    "\n",
    "## b. ¿Cuál sería el resultado sonoro de las siguientes operaciones sobre las señales: escalamiento, desplazamiento, reflexión?\n",
    "\n",
    "### a. Escalamiento:\n",
    "- El escalamiento de una señal se produce al multiplicar todos sus valores por un factor constante. Si la constante es mayor que 1, la señal se amplifica; si es menor que 1 y mayor que 0, la señal se atenúa (valores más pequeños) (C. Coto M. & Rojas, s. f.). Al aumentar o disminuir la amplitud de una señal, se produce el efecto sonoro de subir o bajar el volumen, sin alterar su forma básica.\n",
    "\n",
    "### b. Desplazamiento:\n",
    "- En este caso, se puede hablar de desplazamiento (o retraso) hacia la derecha (positivo) o hacia la izquierda (negativo). Estos desplazamientos se logran al sumar o restar (respectivamente) un valor positivo al dominio temporal de la señal. Esto provoca un cambio de posición de la señal a lo largo del tiempo sin afectar su forma o amplitud (C. Coto M. & Rojas, s. f.). Un ejemplo de uso podría ser tratar de sincronizar 2 señales.\n",
    "\n",
    "### c. Reflexión:\n",
    "- La reflexión de una señal implica cambiar el signo de todos los valores. Si la señal es positiva en el eje del tiempo (horizontal) y se realiza la reflexión, esta será negativa y viceversa (C. Coto M. & Rojas, s. f.). El efecto sonoro es que la señal se reproduce en la dirección opuesta en el eje horizontal .\n",
    "</p>\n",
    "</div>\n"
   ]
  },
  {
   "cell_type": "markdown",
   "metadata": {},
   "source": [
    "En las siguintes tres secciones se muestra:\n",
    "- Código para realizar un gráfico que contenga solo un latido del archivo f0001.wav "
   ]
  },
  {
   "cell_type": "code",
   "execution_count": null,
   "metadata": {},
   "outputs": [],
   "source": [
    "# Plotting EMG signal (one beat)\n",
    "plt.figure(figsize=(18,6))\n",
    "plt.xlabel(r'time (s)')\n",
    "plt.ylabel(r'voltage ($\\mu$V)')\n",
    "plt.plot(timeECG,waveData, 'b')\n",
    "plt.xlim(1.4,1.8)\n",
    "plt.title(\"One beat\")\n",
    "plt.show()"
   ]
  },
  {
   "cell_type": "markdown",
   "metadata": {},
   "source": [
    "![Gráfico 16.  Un solo latido del archivo f0001.wav.](one_beat.png)\n",
    "Gráfico 16.  Un solo latido del archivo f0001.wav."
   ]
  },
  {
   "cell_type": "markdown",
   "metadata": {},
   "source": [
    "- Código para realizar un gráfico que contenga tres latidos del archivo f0001.wav "
   ]
  },
  {
   "cell_type": "code",
   "execution_count": null,
   "metadata": {},
   "outputs": [],
   "source": [
    "# Plotting EMG signal (three beats)\n",
    "plt.figure(figsize=(18,6))\n",
    "plt.xlabel(r'time (s)')\n",
    "plt.ylabel(r'voltage ($\\mu$V)')\n",
    "plt.plot(timeECG,waveData, 'b')\n",
    "plt.xlim(1.4,2.6)\n",
    "plt.title(\"Three beats\")\n",
    "plt.show()"
   ]
  },
  {
   "cell_type": "markdown",
   "metadata": {},
   "source": [
    "![Gráfico 17.  Un solo latido del archivo f0001.wav.](three_beat.png)\n",
    "Gráfico 17.  Tres latidos del archivo f0001.wav."
   ]
  },
  {
   "cell_type": "markdown",
   "metadata": {},
   "source": [
    "- Código para realizar un gráfico que contenga 15 segundos del archivo f0001.wav."
   ]
  },
  {
   "cell_type": "code",
   "execution_count": null,
   "metadata": {},
   "outputs": [],
   "source": [
    "# Plotting EMG signal (15 seconds)\n",
    "plt.figure(figsize=(18,6))\n",
    "plt.xlabel(r'time (s)')\n",
    "plt.ylabel(r'voltage ($\\mu$V)')\n",
    "plt.plot(timeECG,waveData, 'b')\n",
    "plt.xlim(0,15)\n",
    "plt.title(\"15 seconds\")\n",
    "plt.show()"
   ]
  },
  {
   "cell_type": "markdown",
   "metadata": {},
   "source": [
    "![Gráfico 18. 15 segundos del archivo f0001.wav.](15_seconds.png)\n",
    "Gráfico 18. 15 segundos del archivo f0001.wav."
   ]
  },
  {
   "cell_type": "markdown",
   "metadata": {},
   "source": [
    "<div style=\"text-align: justify;\">\n",
    "<p>\n",
    "\n",
    "### Estimación manual de la frencuncia cardiaca para el archivo f0001.wav\n",
    "\n",
    "Del grafico 3 podemos calcular la frecuencia de pulso, al contar cada latido en los primeros 15 segundos, 40 latidos, y luego multiplicarlo por cuatro, vendrían siendo 160 latidos por minuto.\n",
    "\n",
    "</p>\n",
    "</div>"
   ]
  },
  {
   "cell_type": "markdown",
   "metadata": {},
   "source": [
    "<div style=\"text-align: justify;\">\n",
    "<p>\n",
    "\n",
    "# Parte 2: Algoritmo para detectar componente R de un ECG:\n",
    "\n",
    "La premisa fundamental de este algoritmo es obtener un registro de ECG de calidad óptima. A continuación, se busca identificar los picos máximos (puntos R) en una ventana de tiempo específica basada en un umbral determinado (Pulido y McKiernan, 2020).\n",
    "\n",
    "## Detección de Picos R:\n",
    "\n",
    "Para la detección de los picos R, se genera una matriz de valores que superan un umbral predeterminado. A continuación, se determina el valor máximo de esta matriz y se agrega al vector R. Este proceso se repite a lo largo de toda la serie temporal (Pulido y McKiernan, 2020).\n",
    "\n",
    "A continuación, se define una función que busca los máximos locales y los retorna en un arreglo.\n",
    "\n",
    "Sin embargo, surge una complicación: automatizar esta función para detectar todos los máximos no es sencillo, ya que depende del parámetro threshold_ratio. Para determinar el valor óptimo, es necesario examinar gráficamente y ajustar este umbral para cada conjunto de datos.\n",
    "\n",
    "Si no se detectan todas las crestas R, es necesario disminuir el threshold_ratio. En cambio, si se detectan componentes que no son crestas R (como ondas T), se debe incrementar el threshold_ratio.\n",
    "\n",
    "Por lo tanto, para determinar los máximos locales, es crucial analizar gráficamente cada caso. Sin este análisis, las frecuencias cardiacas, ya sea por picos R o por intervalos R-R, no se aproximarán a la realidad, como se verá más adelante.\n",
    "\n",
    "La siguiente función es muy relevante en el análisis de ECG, los maximos locales corresponden a los picos u ondas R que ademas corresponden a la contracción del ventrículo en el corazón. A partir de estos picos, se calcula la frecuencia cardíaca.\n",
    "\n",
    "</p>\n",
    "</div>"
   ]
  },
  {
   "cell_type": "code",
   "execution_count": 10,
   "metadata": {},
   "outputs": [],
   "source": [
    "###Función para detectar maximos locales\n",
    "def detecta_maximos_locales(timeECG, waveData, threshold_ratio=0.7):\n",
    "\n",
    "    #Si no se detectan todas las crestas R, disminuya el threshold_ratio.\n",
    "    #Si se detectan componentes que no son crestas R (como ondas T), incremente el threshold_ratio.\n",
    "\n",
    "    if len(timeECG) != len(waveData): #Genera un error si dos arreglos tienen longitudes diferentes\n",
    "        raise Exception(\"The two arrays have different lengths.\")\n",
    "    \n",
    "    interval = max(waveData) - min(waveData)\n",
    "    threshold = threshold_ratio*interval + min(waveData)\n",
    "    maxima = []\n",
    "    maxima_indices = []\n",
    "    mxs_indices = []\n",
    "    banner = False\n",
    "    \n",
    "    for i in range(0, len(waveData)):\n",
    "            \n",
    "        if waveData[i] >= threshold:#Si se supera un valor umbral,\n",
    "            # los índices y valores se guardan\n",
    "            banner = True\n",
    "            maxima_indices.append(i)\n",
    "            maxima.append(waveData[i])\n",
    "            \n",
    "        elif banner == True and waveData[i] < threshold: #Si se cruza el valor del umbral\n",
    "            #se guarda el índice del valor máximo en el array original\n",
    "            index_local_max = maxima.index(max(maxima))\n",
    "            mxs_indices.append(maxima_indices[index_local_max])\n",
    "            maxima = []\n",
    "            maxima_indices = []\n",
    "            banner = False     \n",
    "\n",
    "    return mxs_indices"
   ]
  },
  {
   "cell_type": "markdown",
   "metadata": {},
   "source": [
    "<div style=\"text-align: justify;\">\n",
    "<p>\n",
    "La siguiente funcion detecta los intervalos R-R, se agrego un  if para tomar en cuenta los casos en que el lengt es 1 o menor, ya que pueden suceder errores como division entre 0, si resulta que length menor que 1 se devuelve un arreglo vacio que representa mejor la situación en la que no se pueden calcular intervalos R-R debido a la falta de datos.\n",
    "</p>\n",
    "</div>"
   ]
  },
  {
   "cell_type": "code",
   "execution_count": 16,
   "metadata": {},
   "outputs": [],
   "source": [
    "###Función para detectar intervalos R\n",
    "def R_intervals(time_indices):\n",
    "    length = len(time_indices)\n",
    "    if length > 1 : #### Se crea un if para tomar en cuenta los casos en que el lengt es 1 o menor, ya que pueden suceder errores como division entre 0\n",
    "        intervals = np.zeros(length-1)\n",
    "        for i in range(0, length-1):\n",
    "            intervals[i] = time_indices[i+1]-time_indices[i]\n",
    "    else: ### si es menor que 1 se devuelve un arreglo vacio que representa mejor la situación en la que no se pueden calcular intervalos R-R debido a la falta de datos\n",
    "        intervals = []\n",
    "    return intervals"
   ]
  },
  {
   "cell_type": "code",
   "execution_count": 12,
   "metadata": {},
   "outputs": [],
   "source": [
    "### Arreglo con el nombre de los nuevos archivos.wav\n",
    "nice = [\"a0001\",\"a0002\",\"a0003\",\"a0004\",\"a0005\",\"a0006\",\"a0007\",\"a0008\",\"a0009\",\"a0010\",\"a0011\",\"a0012\",\"a0013\",\"a0014\",\"a0015\"]"
   ]
  },
  {
   "cell_type": "markdown",
   "metadata": {},
   "source": [
    "<div style=\"text-align: justify;\">\n",
    "<p>\n",
    "Ya por último en la siguiente seccion lo que se hizo fue armar un for que itera recorriendo los archivos de la lista nice, esto con el fin de ir creando las grafiacas de los nuevos archivos (acá se cambió de archivos debido a que los archivos f que escogimos no era una buena opción ya que no se podian leer muy bien los intervalos R-R ni los picos R, por tanto se decide escoger los archivos a), los cuales tienen resultados de frecuencia cardiaca por intervalos R-R y por picos R muy variados, esto debido a lo que se explico anteriormente (problemas con la escogencia de threshold_ratio). Se hace este for para crear los gráficos de los puntos máximos (modificado), ya que es mas reprensetativo para poder observar los picos R y calcular la frecuencia cardiaca manualmente, no solo internamente con el programa (el cual ya despliega el resultado en el gráfico). No se despliega el otro tipo de grafico presente en el codigo original, ya que es visualmente menos intuitivo.  Ademas se agrego dentro del for las variables necesarias para calcular la frecuencia cardiaca por intervalos R-R (formula que tambien fue agregada).\n",
    "\n",
    "### Se advierte ademas que pueden suceder ciertos problemas dentro del siguiente for debido a los tipos de señales que ingresen:\n",
    "#### La advertencia \"overflow encountered in scalar subtract\": \n",
    "Significa que se ha encontrado un desbordamiento (overflow) durante una resta escalar. Esto suele ocurrir cuando los valores son muy grandes o muy pequeños para ser representados con precisión por el tipo de datos utilizado.\n",
    "\n",
    "#### La advertencia \"Mean of empty slice\" \n",
    "Indica que se ha intentado calcular la media de un conjunto de datos vacío o sin valores válidos.\n",
    "#### La advertencia \"invalid value encountered in scalar divide\" \n",
    "Indica que se ha intentado realizar una división por un valor que no es válido (por ejemplo, dividir por cero).\n",
    "</p>\n",
    "</div>"
   ]
  },
  {
   "cell_type": "code",
   "execution_count": null,
   "metadata": {},
   "outputs": [],
   "source": [
    "for i in range(0, len(nice)): ###Se agrega un for para crear todos los graficos de cada señal\n",
    "    timeECG, waveData = ecg(nice[i]+'.wav') ###Se crean las variables para cada señal\n",
    "    #Probar la función y trazar.\n",
    "    mxs_indices = detecta_maximos_locales(timeECG, waveData)\n",
    "\n",
    "    mean_bpm = 60*(len(mxs_indices)/(timeECG[-1]-timeECG[0]))\n",
    "    xx = R_intervals(timeECG[mxs_indices])\n",
    "    mean_rr = np.mean(xx)\n",
    "    mean_bpm_from_rr = 60 / mean_rr ### Se agrega formula para calcular el valor de la frecuencia cardiaca a partir de los intervalos R-R\n",
    "    \n",
    "    \n",
    "    plt.figure(figsize=(18,8))\n",
    "    plt.xlabel('time (s)')\n",
    "    plt.ylabel(r'voltage ($\\mu$V)')\n",
    "    plt.xlim(min(timeECG),max(timeECG))\n",
    "    plt.plot(timeECG, waveData)\n",
    "    plt.scatter(timeECG[mxs_indices], waveData[mxs_indices], color='r')\n",
    "    plt.title(\"Onda \" + nice[i] + \"\\n Frecuencia cardíaca (bpm) basada en picos R : \" + str(mean_bpm) + \"\\n Frecuencia cardíaca (bpm) basada en los intervalos R-R :\" + str(mean_bpm_from_rr)) \n",
    "    ### Se agrega titulo a los graficos con dos diferentes frecuencias cardiacas, dadas por los dos diferentes metodos\n",
    "\n",
    "    plt.show()\n",
    "\n",
    "    ### Frecuencia cardíaca por los dos diferentes metodos, se imprime tambien en pantalla (ya se imprime dentro del grafico)\n",
    "    \n",
    "    print(\"Onda \" + nice[i] + \"\\n Frecuencia cardíaca (bpm) basada en picos R : \" + str(mean_bpm) + \"\\n Frecuencia cardíaca (bpm) basada en los intervalos R-R :\" + str(mean_bpm_from_rr))"
   ]
  },
  {
   "cell_type": "markdown",
   "metadata": {},
   "source": [
    "![Gráfico 19.  Representación de onda del archivo a0001 y sus frecuencias cardicas por dos diferentes metodos.](a0001.png)\n",
    "Gráfico 19.  Representación de onda del archivo a0001 y sus frecuencias cardicas por dos diferentes metodos.\n",
    "![Gráfico 20.  Representación de onda del archivo a0002 y sus frecuencias cardicas por dos diferentes metodos.](a0002.png)\n",
    "Gráfico 20.  Representación de onda del archivo a0002 y sus frecuencias cardicas por dos diferentes metodos.\n",
    "![Gráfico 21.  Representación de onda del archivo a0003 y sus frecuencias cardicas por dos diferentes metodos.](a0003.png)\n",
    "Gráfico 21.  Representación de onda del archivo a0003 y sus frecuencias cardicas por dos diferentes metodos.\n",
    "![Gráfico 22.  Representación de onda del archivo a0004 y sus frecuencias cardicas por dos diferentes metodos.](a0004.png)\n",
    "Gráfico 22.  Representación de onda del archivo a0004 y sus frecuencias cardicas por dos diferentes metodos.\n",
    "![Gráfico 23.  Representación de onda del archivo a0005 y sus frecuencias cardicas por dos diferentes metodos.](a0005.png)\n",
    "Gráfico 23.  Representación de onda del archivo a0005 y sus frecuencias cardicas por dos diferentes metodos.\n",
    "![Gráfico 24.  Representación de onda del archivo a0006 y sus frecuencias cardicas por dos diferentes metodos.](a0006.png)\n",
    "Gráfico 24.  Representación de onda del archivo a0006 y sus frecuencias cardicas por dos diferentes metodos.\n",
    "![Gráfico 25.  Representación de onda del archivo a0007 y sus frecuencias cardicas por dos diferentes metodos.](a0007.png)\n",
    "Gráfico 25.  Representación de onda del archivo a0007 y sus frecuencias cardicas por dos diferentes metodos.\n",
    "![Gráfico 26.  Representación de onda del archivo a0008 y sus frecuencias cardicas por dos diferentes metodos.](a0008.png)\n",
    "Gráfico 26.  Representación de onda del archivo a0008 y sus frecuencias cardicas por dos diferentes metodos.\n",
    "![Gráfico 27.  Representación de onda del archivo a0009 y sus frecuencias cardicas por dos diferentes metodos.](a0009.png)\n",
    "Gráfico 27.  Representación de onda del archivo a0009 y sus frecuencias cardicas por dos diferentes metodos.\n",
    "![Gráfico 28.  Representación de onda del archivo a0010 y sus frecuencias cardicas por dos diferentes metodos.](a0010.png)\n",
    "Gráfico 28.  Representación de onda del archivo a0010 y sus frecuencias cardicas por dos diferentes metodos.\n",
    "![Gráfico 29.  Representación de onda del archivo a0011 y sus frecuencias cardicas por dos diferentes metodos.](a0011.png)\n",
    "Gráfico 29.  Representación de onda del archivo a0011 y sus frecuencias cardicas por dos diferentes metodos.\n",
    "![Gráfico 30.  Representación de onda del archivo a0012 y sus frecuencias cardicas por dos diferentes metodos.](a0012.png)\n",
    "Gráfico 30.  Representación de onda del archivo a0012 y sus frecuencias cardicas por dos diferentes metodos.\n",
    "![Gráfico 31.  Representación de onda del archivo a0013 y sus frecuencias cardicas por dos diferentes metodos.](a0013.png)\n",
    "Gráfico 31.  Representación de onda del archivo a0013 y sus frecuencias cardicas por dos diferentes metodos.\n",
    "![Gráfico 32.  Representación de onda del archivo a0014 y sus frecuencias cardicas por dos diferentes metodos.](a0014.png)\n",
    "Gráfico 32.  Representación de onda del archivo a0014 y sus frecuencias cardicas por dos diferentes metodos.\n",
    "![Gráfico 33.  Representación de onda del archivo a0015 y sus frecuencias cardicas por dos diferentes metodos.](a0015.png)\n",
    "Gráfico 33.  Representación de onda del archivo a0015 y sus frecuencias cardicas por dos diferentes metodos."
   ]
  },
  {
   "cell_type": "markdown",
   "metadata": {},
   "source": [
    "<div style=\"text-align: justify;\">\n",
    "<p>\n",
    "\n",
    "# IV. Comentarios\n",
    "Además de lo ya dicho anteriormente, se resaltan algunos comentarios.\n",
    "\n",
    "## Parte 1.\n",
    "- Las herramientas de programación son de mucha utilidad para analizar y graficar de forma práctica las señales. Se puede extraer con pocas líneas elementos como amplitud, tiempo... De no ser así, se requeriría mucho tiempo para que una persona saque cada cálculo a mano.\n",
    "\n",
    "## Parte 2.\n",
    "- En esta sección se logra determinar la frecuencia cardíaca a partir de dos formas, por picos u ondas R y por intervalos R-R. A continuación, se explica un poco de lo que se pudo notar de ambos casos, tanto ventajas como consideraciones.\n",
    "\n",
    "### Calcular la Frecuencia Cardíaca a partir de los Picos R:\n",
    "\n",
    "#### Ventajas:\n",
    "Es un método más directo y comúnmente utilizado para calcular la frecuencia cardíaca en ECG. Puede proporcionar una representación visual clara de los picos R en la señal, que son fácilmente identificables y marcan el inicio de un ciclo cardíaco.\n",
    "\n",
    "#### Consideraciones:\n",
    "La detección precisa de los picos R puede ser más desafiante en señales de baja calidad o ruidosas. Errores en la detección de los picos R pueden afectar directamente la precisión del cálculo de la frecuencia cardíaca.\n",
    "\n",
    "### Calcular la Frecuencia Cardíaca a partir de los Intervalos R-R:\n",
    "\n",
    "#### Ventajas:\n",
    "Puede ser más robusto ante ruido o artefactos en la señal, ya que se basa en el tiempo entre los picos R en lugar de en la detección precisa de los picos. Permite una mayor flexibilidad en el procesamiento y análisis de la señal.\n",
    "\n",
    "#### Consideraciones:\n",
    "Dependiendo de la calidad de la señal, los intervalos R-R pueden variar y, por lo tanto, la estimación de la frecuencia cardíaca puede no ser tan precisa como la obtenida a partir de los picos R.\n",
    "\n",
    "Sin embargo, cabe recalcar que, como ambos utilizan la función de detección de máximos absolutos, si no se elige un threshold_ratio adecuado para cada onda, no dará los resultados esperados, dando una frecuencia mayor si es muy pequeño y una menor si es muy grande, lo cual dificulta la automatización de este proceso.\n",
    "\n",
    "\n",
    "</p>\n",
    "</div>"
   ]
  },
  {
   "cell_type": "markdown",
   "metadata": {},
   "source": [
    "<div style=\"text-align: justify;\">\n",
    "<p>\n",
    "\n",
    "# IV. Conclusiones\n",
    "\n",
    "- Se puede extraer información de los diferentes archivos .wav y almacenarlos en distintas variables.\n",
    "- Es posible generar gráficos a partir de la información extraída de los archivos .wav.\n",
    "- También es posible modificar las distintas variables con el fin de graficar diferentes secciones en el tiempo de las ondas contenidas en los archivos .wav.\n",
    "- Analizando las gráficas es posible determinar y adaptar el código para extraer máximos locales y de esta manera obtener las ondas o picos R. Sin embargo, la automatización de este procedimiento no es tan sencilla y se requiere de modificaciones personalizadas para cada onda.\n",
    "\n",
    "\n",
    "</p>\n",
    "</div>"
   ]
  },
  {
   "cell_type": "markdown",
   "metadata": {},
   "source": [
    "<div style=\"text-align: justify;\">\n",
    "<p>\n",
    "\n",
    "# V. Bibliografía\n",
    "- Coto, C., M., & Rojas, R., J. (s. f.). Señales y sistemas para Ingeniería Eléctrica. https://mv1.mediacionvirtual.ucr.ac.cr/mod/resource/view.php?id=2094056 \n",
    "\n",
    "- García, J. (2016). *Errores y artefactos más comunes en la obtención del electrocardiograma*. SIACARDIO. Recuperado 9 de septiembre de 2023, de [https://www.siacardio.com/wp-content/uploads/2015/01/ECG-Capitulo-10-Errores-y-artefactos-comunes-en-ECG.pdf](https://www.siacardio.com/wp-content/uploads/2015/01/ECG-Capitulo-10-Errores-y-artefactos-comunes-en-ECG.pdf)\n",
    "\n",
    "- Kachuee, M., Fazeli, S., & Sarrafzadeh, M. (2018). *ECG Heartbeat Classification: A Deep Transferable Representation*. 2018 IEEE International Conference on Healthcare Informatics (ICHI). [https://doi.org/10.1109/ichi.2018.00092](https://doi.org/10.1109/ichi.2018.00092)\n",
    "\n",
    "- Pulido, A., & McKiernan, E. (2020). *Graphing and analyzing ECG data*. Gist. Recuperado 6 de septiembre de 2023, de [https://gist.github.com/emckiernan/3e7e86a48256777e9e6a44ede032d938#file-ecganalysis-ipynb](https://gist.github.com/emckiernan/3e7e86a48256777e9e6a44ede032d938#file-ecganalysis-ipynb)\n",
    "\n",
    "\n",
    "</p>\n",
    "</div>"
   ]
  }
 ],
 "metadata": {
  "kernelspec": {
   "display_name": "Python 3",
   "language": "python",
   "name": "python3"
  },
  "language_info": {
   "codemirror_mode": {
    "name": "ipython",
    "version": 3
   },
   "file_extension": ".py",
   "mimetype": "text/x-python",
   "name": "python",
   "nbconvert_exporter": "python",
   "pygments_lexer": "ipython3",
   "version": "3.11.6"
  },
  "orig_nbformat": 4
 },
 "nbformat": 4,
 "nbformat_minor": 2
}

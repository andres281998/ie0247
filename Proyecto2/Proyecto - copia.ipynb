{
 "cells": [
  {
   "cell_type": "markdown",
   "metadata": {},
   "source": [
    "<center>\n",
    "\n",
    "# Universidad de Costa Rica\n",
    "\n",
    "## Facultad de Ingeniería\n",
    "## Escuela de Ingeniería Eléctrica\n",
    "## Bachillerato en Ingeniería Eléctrica\n",
    "## IE-0247 Señales y Sistemas I\n",
    "## II ciclo 2023\n",
    "#\n",
    "## Proyecto 2 - Parte 1\n",
    "#\n",
    "## José Andrés Guerrero Álvarez – B63162\n",
    "## Grupo 01\n",
    "\n",
    "## Profesor: \n",
    "## Marvin Coto Jiménez\n",
    "\n",
    "## 12 de noviembre del 2023\n",
    "\n",
    "</center>\n"
   ]
  },
  {
   "cell_type": "markdown",
   "metadata": {},
   "source": [
    "<div style=\"text-align: justify;\">\n",
    "<p>\n",
    "\n",
    "# I. Introducción y contextualización\n",
    "En el fragmento de código proporcionado, se aborda el procesamiento de señales mediante el diseño y aplicación de un filtro Butterworth para atenuar el ruido en una señal compuesta. La señal original, compuesta por una onda sinusoidal y ruido, se filtra para resaltar la componente sinusoidal, utilizando la transformada de Fourier para analizar las frecuencias presentes antes y después del proceso de filtrado (Cabrera, s. f.).\n",
    "\n",
    "El presente problema ocurre en el procesamiento de señales, donde la presencia de ruido puede afectar la calidad de la información de interés. La necesidad de filtrar una señal para destacar componentes específicas es común en diversas aplicaciones, como telecomunicaciones, procesamiento de imágenes y análisis de datos. En este caso, se emplea un filtro Butterworth para suavizar la señal y preservar la información relevante (Cabrera, s. f.).\n",
    "</p>\n",
    "</div>"
   ]
  },
  {
   "cell_type": "markdown",
   "metadata": {},
   "source": [
    "<div style=\"text-align: justify;\">\n",
    "<p>\n",
    "\n",
    "### Paso 1 : Definir los Parametros de Filtro\n",
    "</p>\n",
    "</div>"
   ]
  },
  {
   "cell_type": "code",
   "execution_count": 6,
   "metadata": {},
   "outputs": [],
   "source": [
    "import numpy as np\n",
    "import plotly.graph_objects as go\n",
    "import matplotlib.pyplot as plt\n",
    "from scipy.signal import butter,filtfilt\n",
    "T = 5.0         # Período de muestreo\n",
    "fs = 30.0       # Tasa de muestreo, Hz\n",
    "cutoff = 2      # Frecuencia de corte deseada del filtro, Hz (ligeramente mayor que la frecuencia real de 1.2 Hz)\n",
    "nyq = 0.5 * fs  # Frecuencia de Nyquist\n",
    "order = 2       # Una onda sinusoidal puede aproximarse como cuadrática\n",
    "n = int(T * fs) # Número total de muestras\n",
    "t = np.linspace(0.0, T, n, endpoint=False)"
   ]
  },
  {
   "cell_type": "markdown",
   "metadata": {},
   "source": [
    "<div style=\"text-align: justify;\">\n",
    "<p>\n",
    " Primero se importan las bibliotecas necesarias para realizar operaciones matemáticas y visualizaciones. numpy se utiliza para operaciones numéricas, plotly.graph_objects para gráficos interactivos, matplotlib.pyplot para visualizaciones básicas y scipy.signal para funciones relacionadas con señales y sistemas.\n",
    " \n",
    " Luego se definen los parámetros para el filtro y la señal. T es el período de muestreo, fs es la tasa de muestreo, cutoff es la frecuencia de corte deseada del filtro, nyq es la frecuencia de Nyquist, order es el orden del filtro y n es el número total de muestras. Se crea un vector de tiempo t utilizando numpy.linspace.\n",
    "</p>\n",
    "</div>"
   ]
  },
  {
   "cell_type": "markdown",
   "metadata": {},
   "source": [
    "<div style=\"text-align: justify;\">\n",
    "<p>\n",
    "\n",
    "### Paso 2 : Crear datos de muestra con ruido\n",
    "</p>\n",
    "</div>"
   ]
  },
  {
   "cell_type": "code",
   "execution_count": 7,
   "metadata": {},
   "outputs": [],
   "source": [
    "# sin wave\n",
    "sig = np.sin(1.2*2*np.pi*t)\n",
    "# Lets add some noise\n",
    "noise = 1.5*np.cos(9*2*np.pi*t) + 0.5*np.sin(12.0*2*np.pi*t)\n",
    "data = sig + noise"
   ]
  },
  {
   "cell_type": "markdown",
   "metadata": {},
   "source": [
    "<div style=\"text-align: justify;\">\n",
    "<p>\n",
    "Aquí se genera una onda sinusoidal pura utilizando la función np.sin. La frecuencia de la onda está dada por 1.2, y se multiplica por 2 * np.pi para obtener la forma completa de la onda en un período.\n",
    "\n",
    "Se crea una señal de ruido compuesta por dos componentes: una componente cosenoidal con una frecuencia de 9 Hz y amplitud 1.5, y una componente senoidal con una frecuencia de 12 Hz y amplitud 0.5.\n",
    "\n",
    "Ambas señales, la sinusoidal pura y el ruido, se suman para formar la señal compuesta \"data\". Esta señal compuesta es la que se filtra posteriormente para eliminar el ruido no deseado.\n",
    "</p>\n",
    "</div>\n"
   ]
  },
  {
   "cell_type": "markdown",
   "metadata": {},
   "source": [
    "<div style=\"text-align: justify;\">\n",
    "<p>\n",
    "\n",
    "### Paso 3 : Implementación del filtro usando scipy\n",
    "</p>\n",
    "</div>"
   ]
  },
  {
   "cell_type": "code",
   "execution_count": 8,
   "metadata": {},
   "outputs": [],
   "source": [
    "def butter_lowpass_filter(data, cutoff, fs, order):\n",
    "    normal_cutoff = cutoff / nyq\n",
    "    # Get the filter coefficients \n",
    "    b, a = butter(order, normal_cutoff, btype='low', analog=False)\n",
    "    y = filtfilt(b, a, data)\n",
    "    return y"
   ]
  },
  {
   "cell_type": "markdown",
   "metadata": {},
   "source": [
    "<div style=\"text-align: justify;\">\n",
    "<p>\n",
    "Esta función toma como entrada la señal a filtrar (data), la frecuencia de corte del filtro (cutoff), la tasa de muestreo (fs), y el orden del filtro (order).\n",
    "\n",
    "La frecuencia de corte se normaliza dividiéndola por la frecuencia de Nyquist (nyq), que es la mitad de la tasa de muestreo.\n",
    "\n",
    "Luego, utilizando la función butter de scipy.signal, se obtienen los coeficientes del filtro. b y a son los coeficientes del numerador y denominador del sistema de función de transferencia del filtro. La función filtfilt aplica el filtro a la señal de entrada data utilizando los coeficientes b y a. y es la señal filtrada resultante.\n",
    "\n",
    "Ya por ultimo se retorna la señal filtrada en y.\n",
    "\n",
    "En resumen, esta función encapsula el proceso de filtrado de una señal con un filtro pasa bajos Butterworth (es un tipo de filtro utilizado en teoría de control y procesamiento de señales, destacado por proporcionar una respuesta de amplitud plana en la banda de paso, lo que significa que atenúa todas las frecuencias en esa banda de manera uniforme), simplificando su aplicación en el código principal (Cabrera, s. f.).\n",
    "</p>\n",
    "</div>"
   ]
  },
  {
   "cell_type": "markdown",
   "metadata": {},
   "source": [
    "<div style=\"text-align: justify;\">\n",
    "<p>\n",
    "\n",
    "### Paso 4 : Filtrar y trazar los datos\n",
    "\n",
    "</p>\n",
    "</div>"
   ]
  },
  {
   "cell_type": "code",
   "execution_count": 9,
   "metadata": {},
   "outputs": [
    {
     "data": {
      "application/vnd.plotly.v1+json": {
       "config": {
        "plotlyServerURL": "https://plot.ly"
       },
       "data": [
        {
         "line": {
          "shape": "spline"
         },
         "name": "signal with noise",
         "type": "scatter",
         "y": [
          1.5,
          0.07905702174867041,
          -1.2073000756082828,
          2.3736008556386867,
          1.0139607909182002,
          -0.5489434837048467,
          1.7554448461369287,
          1.7202844841435336,
          0.16682981905117533,
          0.013095125067130953,
          2.087785252292473,
          0.19849168726849659,
          -1.5637205161456948,
          1.5637205161456926,
          -0.1984916872684913,
          -2.087785252292474,
          -0.01309512506713284,
          -0.166829819051171,
          -1.7202844841435323,
          -1.7554448461369354,
          0.5489434837048455,
          -1.013960790918192,
          -2.3736008556386894,
          1.2073000756082757,
          -0.07905702174866644,
          -1.5000000000000016,
          1.006108004873511,
          1.2197509075165573,
          -0.05345012748615441,
          0.08690980779336022,
          2.451056516295152,
          0.8283938630121023,
          -0.7067664989813118,
          2.5938808021760176,
          0.9401461081919893,
          -0.9122147477075284,
          1.1255426703933333,
          0.8633304669791534,
          -0.8633304669791393,
          -1.1255426703933324,
          0.9122147477075252,
          -0.9401461081919626,
          -2.5938808021760265,
          0.7067664989813093,
          -0.8283938630120748,
          -2.451056516295156,
          -0.08690980779336577,
          0.053450127486154964,
          -1.219750907516557,
          -1.0061080048735216,
          1.4999999999999971,
          0.07905702174867815,
          -1.2073000756082866,
          2.373600855638676,
          1.013960790918197,
          -0.5489434837048563,
          1.7554448461369256,
          1.7202844841435372,
          0.16682981905117245,
          0.013095125067118851,
          2.0877852522924707,
          0.1984916872685149,
          -1.5637205161457077,
          1.5637205161456937,
          -0.19849168726848487,
          -2.0877852522924827,
          -0.013095125067126623,
          -0.1668298190511729,
          -1.720284484143517,
          -1.7554448461369332,
          0.5489434837048429,
          -1.0139607909181811,
          -2.3736008556386925,
          1.2073000756082577,
          -0.07905702174864873,
          -1.5000000000000115,
          1.0061080048734852,
          1.2197509075165611,
          -0.05345012748615907,
          0.08690980779334312,
          2.451056516295149,
          0.8283938630120778,
          -0.7067664989813222,
          2.5938808021760122,
          0.9401461081920082,
          -0.9122147477075233,
          1.1255426703933424,
          0.8633304669791603,
          -0.8633304669791471,
          -1.1255426703933327,
          0.9122147477075231,
          -0.9401461081919584,
          -2.5938808021760402,
          0.7067664989813012,
          -0.8283938630120835,
          -2.4510565162951656,
          -0.08690980779336299,
          0.05345012748615319,
          -1.21975090751655,
          -1.0061080048735112,
          1.4999999999999942,
          0.07905702174868184,
          -1.2073000756082892,
          2.3736008556386654,
          1.013960790918215,
          -0.5489434837048447,
          1.7554448461369234,
          1.720284484143559,
          0.16682981905116867,
          0.013095125067113411,
          2.0877852522924547,
          0.19849168726853272,
          -1.5637205161457022,
          1.563720516145698,
          -0.19849168726845218,
          -2.087785252292485,
          -0.013095125067117075,
          -0.1668298190511639,
          -1.7202844841435123,
          -1.7554448461369059,
          0.5489434837048403,
          -1.013960790918164,
          -2.37360085563871,
          1.2073000756082437,
          -0.07905702174861232,
          -1.499999999999997,
          1.0061080048735038,
          1.219750907516573,
          -0.05345012748614808,
          0.08690980779331803,
          2.4510565162951323,
          0.8283938630121468,
          -0.7067664989813078,
          2.5938808021760305,
          0.9401461081919714,
          -0.9122147477075395,
          1.125542670393289,
          0.8633304669791436,
          -0.8633304669791344,
          -1.125542670393368,
          0.9122147477075211,
          -0.9401461081919524,
          -2.5938808021760416,
          0.7067664989813108,
          -0.8283938630120662,
          -2.4510565162951825,
          -0.08690980779340762,
          0.0534501274861684,
          -1.2197509075165385,
          -1.0061080048734925
         ]
        },
        {
         "line": {
          "shape": "spline"
         },
         "name": "filtered signal",
         "type": "scatter",
         "y": [
          1.491227898444686,
          1.265093737418295,
          1.0848017199839435,
          0.9641005573240626,
          0.8907603013806941,
          0.8468346257445596,
          0.8132426562256646,
          0.7673300844036246,
          0.6935429279847728,
          0.5873696595532262,
          0.44621388998938155,
          0.2713451431255877,
          0.07443529405956556,
          -0.13142019262929427,
          -0.33631102266090285,
          -0.5251543235004693,
          -0.682075663569251,
          -0.7990008211280121,
          -0.8687163839612674,
          -0.882728400269189,
          -0.8407343509247557,
          -0.7479791852374963,
          -0.6073288986159777,
          -0.4264285915461201,
          -0.22026324003743858,
          -0.0006807967928433127,
          0.22129426387370243,
          0.4287848915316661,
          0.6076810533375563,
          0.7501556319855228,
          0.8462050361728025,
          0.8869031794795456,
          0.872513064344856,
          0.8050874266895989,
          0.6852607270943731,
          0.5217155866762389,
          0.327558990789035,
          0.11211731097343536,
          -0.11209731805835094,
          -0.3275464588327742,
          -0.5217185066890856,
          -0.6852878983718168,
          -0.8051482182381826,
          -0.8726163765873334,
          -0.8870553177905024,
          -0.8464062408024229,
          -0.7503951154077417,
          -0.6079306180673457,
          -0.4289915840250355,
          -0.22137310328615434,
          0.0008521705443245674,
          0.22084514185700876,
          0.42761109284951515,
          0.6093097634938045,
          0.7509221055481001,
          0.8447017151058472,
          0.8875843562134078,
          0.8739997422567117,
          0.8037742978451338,
          0.6847689512820124,
          0.5234340974480062,
          0.3270311825192037,
          0.11072920226662758,
          -0.11072917537637537,
          -0.3270311547149195,
          -0.5234340687070042,
          -0.6847689233795645,
          -0.803774275262311,
          -0.8739997330167991,
          -0.8875843724872056,
          -0.8447017733144879,
          -0.7509222255650149,
          -0.6093099664236199,
          -0.4276113967723316,
          -0.22084555491953725,
          -0.0008526809211806402,
          0.2213725406629329,
          0.42899106336654813,
          0.6079302995304097,
          0.7503952394549863,
          0.8464071346657849,
          0.8870573860952439,
          0.87262006562371,
          0.8051539412748235,
          0.6852959086817597,
          0.5217287068878201,
          0.32755814138039313,
          0.11210884432890635,
          -0.1121088647639481,
          -0.3275581616170907,
          -0.5217287260650096,
          -0.6852959246299041,
          -0.8051539499263155,
          -0.8726200605593526,
          -0.8870573583668798,
          -0.8464070731071888,
          -0.7503951317676064,
          -0.6079301344902128,
          -0.42899083451685577,
          -0.22137225179890013,
          0.0008530083553764493,
          0.22084587276504652,
          0.42761162026820576,
          0.6093099652284116,
          0.7509218185963901,
          0.8447007317392446,
          0.8875824367151003,
          0.873996650879734,
          0.803769869217666,
          0.6847631938615439,
          0.5234273377284545,
          0.3270242473652156,
          0.11072362576197985,
          -0.1107309508877451,
          -0.3270256366729046,
          -0.5234167133825742,
          -0.6847343897759284,
          -0.8037170778287446,
          -0.8739154566203461,
          -0.8874716086359882,
          -0.8445648899834901,
          -0.7507749713928612,
          -0.6091797081753965,
          -0.4275434728936017,
          -0.22090678225090965,
          -0.0011324796816467794,
          0.22076559975946672,
          0.42794014811817116,
          0.606332002632884,
          0.7481955168304509,
          0.8436542804717647,
          0.883972942582125,
          0.8696849381557578,
          0.8032010942537424,
          0.6855924572843349,
          0.5260189174691093,
          0.3380253399173909,
          0.13120000174072355,
          -0.08206417419269267,
          -0.2850079745616989,
          -0.4669032470834175,
          -0.621590638700105,
          -0.7408612470870295,
          -0.8228704815983464,
          -0.8756685465420333,
          -0.90711714097414,
          -0.9266840402378829,
          -0.9503323482401456,
          -0.9885258800549103,
          -1.037553138545939
         ]
        }
       ],
       "layout": {
        "template": {
         "data": {
          "bar": [
           {
            "error_x": {
             "color": "#2a3f5f"
            },
            "error_y": {
             "color": "#2a3f5f"
            },
            "marker": {
             "line": {
              "color": "#E5ECF6",
              "width": 0.5
             },
             "pattern": {
              "fillmode": "overlay",
              "size": 10,
              "solidity": 0.2
             }
            },
            "type": "bar"
           }
          ],
          "barpolar": [
           {
            "marker": {
             "line": {
              "color": "#E5ECF6",
              "width": 0.5
             },
             "pattern": {
              "fillmode": "overlay",
              "size": 10,
              "solidity": 0.2
             }
            },
            "type": "barpolar"
           }
          ],
          "carpet": [
           {
            "aaxis": {
             "endlinecolor": "#2a3f5f",
             "gridcolor": "white",
             "linecolor": "white",
             "minorgridcolor": "white",
             "startlinecolor": "#2a3f5f"
            },
            "baxis": {
             "endlinecolor": "#2a3f5f",
             "gridcolor": "white",
             "linecolor": "white",
             "minorgridcolor": "white",
             "startlinecolor": "#2a3f5f"
            },
            "type": "carpet"
           }
          ],
          "choropleth": [
           {
            "colorbar": {
             "outlinewidth": 0,
             "ticks": ""
            },
            "type": "choropleth"
           }
          ],
          "contour": [
           {
            "colorbar": {
             "outlinewidth": 0,
             "ticks": ""
            },
            "colorscale": [
             [
              0,
              "#0d0887"
             ],
             [
              0.1111111111111111,
              "#46039f"
             ],
             [
              0.2222222222222222,
              "#7201a8"
             ],
             [
              0.3333333333333333,
              "#9c179e"
             ],
             [
              0.4444444444444444,
              "#bd3786"
             ],
             [
              0.5555555555555556,
              "#d8576b"
             ],
             [
              0.6666666666666666,
              "#ed7953"
             ],
             [
              0.7777777777777778,
              "#fb9f3a"
             ],
             [
              0.8888888888888888,
              "#fdca26"
             ],
             [
              1,
              "#f0f921"
             ]
            ],
            "type": "contour"
           }
          ],
          "contourcarpet": [
           {
            "colorbar": {
             "outlinewidth": 0,
             "ticks": ""
            },
            "type": "contourcarpet"
           }
          ],
          "heatmap": [
           {
            "colorbar": {
             "outlinewidth": 0,
             "ticks": ""
            },
            "colorscale": [
             [
              0,
              "#0d0887"
             ],
             [
              0.1111111111111111,
              "#46039f"
             ],
             [
              0.2222222222222222,
              "#7201a8"
             ],
             [
              0.3333333333333333,
              "#9c179e"
             ],
             [
              0.4444444444444444,
              "#bd3786"
             ],
             [
              0.5555555555555556,
              "#d8576b"
             ],
             [
              0.6666666666666666,
              "#ed7953"
             ],
             [
              0.7777777777777778,
              "#fb9f3a"
             ],
             [
              0.8888888888888888,
              "#fdca26"
             ],
             [
              1,
              "#f0f921"
             ]
            ],
            "type": "heatmap"
           }
          ],
          "heatmapgl": [
           {
            "colorbar": {
             "outlinewidth": 0,
             "ticks": ""
            },
            "colorscale": [
             [
              0,
              "#0d0887"
             ],
             [
              0.1111111111111111,
              "#46039f"
             ],
             [
              0.2222222222222222,
              "#7201a8"
             ],
             [
              0.3333333333333333,
              "#9c179e"
             ],
             [
              0.4444444444444444,
              "#bd3786"
             ],
             [
              0.5555555555555556,
              "#d8576b"
             ],
             [
              0.6666666666666666,
              "#ed7953"
             ],
             [
              0.7777777777777778,
              "#fb9f3a"
             ],
             [
              0.8888888888888888,
              "#fdca26"
             ],
             [
              1,
              "#f0f921"
             ]
            ],
            "type": "heatmapgl"
           }
          ],
          "histogram": [
           {
            "marker": {
             "pattern": {
              "fillmode": "overlay",
              "size": 10,
              "solidity": 0.2
             }
            },
            "type": "histogram"
           }
          ],
          "histogram2d": [
           {
            "colorbar": {
             "outlinewidth": 0,
             "ticks": ""
            },
            "colorscale": [
             [
              0,
              "#0d0887"
             ],
             [
              0.1111111111111111,
              "#46039f"
             ],
             [
              0.2222222222222222,
              "#7201a8"
             ],
             [
              0.3333333333333333,
              "#9c179e"
             ],
             [
              0.4444444444444444,
              "#bd3786"
             ],
             [
              0.5555555555555556,
              "#d8576b"
             ],
             [
              0.6666666666666666,
              "#ed7953"
             ],
             [
              0.7777777777777778,
              "#fb9f3a"
             ],
             [
              0.8888888888888888,
              "#fdca26"
             ],
             [
              1,
              "#f0f921"
             ]
            ],
            "type": "histogram2d"
           }
          ],
          "histogram2dcontour": [
           {
            "colorbar": {
             "outlinewidth": 0,
             "ticks": ""
            },
            "colorscale": [
             [
              0,
              "#0d0887"
             ],
             [
              0.1111111111111111,
              "#46039f"
             ],
             [
              0.2222222222222222,
              "#7201a8"
             ],
             [
              0.3333333333333333,
              "#9c179e"
             ],
             [
              0.4444444444444444,
              "#bd3786"
             ],
             [
              0.5555555555555556,
              "#d8576b"
             ],
             [
              0.6666666666666666,
              "#ed7953"
             ],
             [
              0.7777777777777778,
              "#fb9f3a"
             ],
             [
              0.8888888888888888,
              "#fdca26"
             ],
             [
              1,
              "#f0f921"
             ]
            ],
            "type": "histogram2dcontour"
           }
          ],
          "mesh3d": [
           {
            "colorbar": {
             "outlinewidth": 0,
             "ticks": ""
            },
            "type": "mesh3d"
           }
          ],
          "parcoords": [
           {
            "line": {
             "colorbar": {
              "outlinewidth": 0,
              "ticks": ""
             }
            },
            "type": "parcoords"
           }
          ],
          "pie": [
           {
            "automargin": true,
            "type": "pie"
           }
          ],
          "scatter": [
           {
            "fillpattern": {
             "fillmode": "overlay",
             "size": 10,
             "solidity": 0.2
            },
            "type": "scatter"
           }
          ],
          "scatter3d": [
           {
            "line": {
             "colorbar": {
              "outlinewidth": 0,
              "ticks": ""
             }
            },
            "marker": {
             "colorbar": {
              "outlinewidth": 0,
              "ticks": ""
             }
            },
            "type": "scatter3d"
           }
          ],
          "scattercarpet": [
           {
            "marker": {
             "colorbar": {
              "outlinewidth": 0,
              "ticks": ""
             }
            },
            "type": "scattercarpet"
           }
          ],
          "scattergeo": [
           {
            "marker": {
             "colorbar": {
              "outlinewidth": 0,
              "ticks": ""
             }
            },
            "type": "scattergeo"
           }
          ],
          "scattergl": [
           {
            "marker": {
             "colorbar": {
              "outlinewidth": 0,
              "ticks": ""
             }
            },
            "type": "scattergl"
           }
          ],
          "scattermapbox": [
           {
            "marker": {
             "colorbar": {
              "outlinewidth": 0,
              "ticks": ""
             }
            },
            "type": "scattermapbox"
           }
          ],
          "scatterpolar": [
           {
            "marker": {
             "colorbar": {
              "outlinewidth": 0,
              "ticks": ""
             }
            },
            "type": "scatterpolar"
           }
          ],
          "scatterpolargl": [
           {
            "marker": {
             "colorbar": {
              "outlinewidth": 0,
              "ticks": ""
             }
            },
            "type": "scatterpolargl"
           }
          ],
          "scatterternary": [
           {
            "marker": {
             "colorbar": {
              "outlinewidth": 0,
              "ticks": ""
             }
            },
            "type": "scatterternary"
           }
          ],
          "surface": [
           {
            "colorbar": {
             "outlinewidth": 0,
             "ticks": ""
            },
            "colorscale": [
             [
              0,
              "#0d0887"
             ],
             [
              0.1111111111111111,
              "#46039f"
             ],
             [
              0.2222222222222222,
              "#7201a8"
             ],
             [
              0.3333333333333333,
              "#9c179e"
             ],
             [
              0.4444444444444444,
              "#bd3786"
             ],
             [
              0.5555555555555556,
              "#d8576b"
             ],
             [
              0.6666666666666666,
              "#ed7953"
             ],
             [
              0.7777777777777778,
              "#fb9f3a"
             ],
             [
              0.8888888888888888,
              "#fdca26"
             ],
             [
              1,
              "#f0f921"
             ]
            ],
            "type": "surface"
           }
          ],
          "table": [
           {
            "cells": {
             "fill": {
              "color": "#EBF0F8"
             },
             "line": {
              "color": "white"
             }
            },
            "header": {
             "fill": {
              "color": "#C8D4E3"
             },
             "line": {
              "color": "white"
             }
            },
            "type": "table"
           }
          ]
         },
         "layout": {
          "annotationdefaults": {
           "arrowcolor": "#2a3f5f",
           "arrowhead": 0,
           "arrowwidth": 1
          },
          "autotypenumbers": "strict",
          "coloraxis": {
           "colorbar": {
            "outlinewidth": 0,
            "ticks": ""
           }
          },
          "colorscale": {
           "diverging": [
            [
             0,
             "#8e0152"
            ],
            [
             0.1,
             "#c51b7d"
            ],
            [
             0.2,
             "#de77ae"
            ],
            [
             0.3,
             "#f1b6da"
            ],
            [
             0.4,
             "#fde0ef"
            ],
            [
             0.5,
             "#f7f7f7"
            ],
            [
             0.6,
             "#e6f5d0"
            ],
            [
             0.7,
             "#b8e186"
            ],
            [
             0.8,
             "#7fbc41"
            ],
            [
             0.9,
             "#4d9221"
            ],
            [
             1,
             "#276419"
            ]
           ],
           "sequential": [
            [
             0,
             "#0d0887"
            ],
            [
             0.1111111111111111,
             "#46039f"
            ],
            [
             0.2222222222222222,
             "#7201a8"
            ],
            [
             0.3333333333333333,
             "#9c179e"
            ],
            [
             0.4444444444444444,
             "#bd3786"
            ],
            [
             0.5555555555555556,
             "#d8576b"
            ],
            [
             0.6666666666666666,
             "#ed7953"
            ],
            [
             0.7777777777777778,
             "#fb9f3a"
            ],
            [
             0.8888888888888888,
             "#fdca26"
            ],
            [
             1,
             "#f0f921"
            ]
           ],
           "sequentialminus": [
            [
             0,
             "#0d0887"
            ],
            [
             0.1111111111111111,
             "#46039f"
            ],
            [
             0.2222222222222222,
             "#7201a8"
            ],
            [
             0.3333333333333333,
             "#9c179e"
            ],
            [
             0.4444444444444444,
             "#bd3786"
            ],
            [
             0.5555555555555556,
             "#d8576b"
            ],
            [
             0.6666666666666666,
             "#ed7953"
            ],
            [
             0.7777777777777778,
             "#fb9f3a"
            ],
            [
             0.8888888888888888,
             "#fdca26"
            ],
            [
             1,
             "#f0f921"
            ]
           ]
          },
          "colorway": [
           "#636efa",
           "#EF553B",
           "#00cc96",
           "#ab63fa",
           "#FFA15A",
           "#19d3f3",
           "#FF6692",
           "#B6E880",
           "#FF97FF",
           "#FECB52"
          ],
          "font": {
           "color": "#2a3f5f"
          },
          "geo": {
           "bgcolor": "white",
           "lakecolor": "white",
           "landcolor": "#E5ECF6",
           "showlakes": true,
           "showland": true,
           "subunitcolor": "white"
          },
          "hoverlabel": {
           "align": "left"
          },
          "hovermode": "closest",
          "mapbox": {
           "style": "light"
          },
          "paper_bgcolor": "white",
          "plot_bgcolor": "#E5ECF6",
          "polar": {
           "angularaxis": {
            "gridcolor": "white",
            "linecolor": "white",
            "ticks": ""
           },
           "bgcolor": "#E5ECF6",
           "radialaxis": {
            "gridcolor": "white",
            "linecolor": "white",
            "ticks": ""
           }
          },
          "scene": {
           "xaxis": {
            "backgroundcolor": "#E5ECF6",
            "gridcolor": "white",
            "gridwidth": 2,
            "linecolor": "white",
            "showbackground": true,
            "ticks": "",
            "zerolinecolor": "white"
           },
           "yaxis": {
            "backgroundcolor": "#E5ECF6",
            "gridcolor": "white",
            "gridwidth": 2,
            "linecolor": "white",
            "showbackground": true,
            "ticks": "",
            "zerolinecolor": "white"
           },
           "zaxis": {
            "backgroundcolor": "#E5ECF6",
            "gridcolor": "white",
            "gridwidth": 2,
            "linecolor": "white",
            "showbackground": true,
            "ticks": "",
            "zerolinecolor": "white"
           }
          },
          "shapedefaults": {
           "line": {
            "color": "#2a3f5f"
           }
          },
          "ternary": {
           "aaxis": {
            "gridcolor": "white",
            "linecolor": "white",
            "ticks": ""
           },
           "baxis": {
            "gridcolor": "white",
            "linecolor": "white",
            "ticks": ""
           },
           "bgcolor": "#E5ECF6",
           "caxis": {
            "gridcolor": "white",
            "linecolor": "white",
            "ticks": ""
           }
          },
          "title": {
           "x": 0.05
          },
          "xaxis": {
           "automargin": true,
           "gridcolor": "white",
           "linecolor": "white",
           "ticks": "",
           "title": {
            "standoff": 15
           },
           "zerolinecolor": "white",
           "zerolinewidth": 2
          },
          "yaxis": {
           "automargin": true,
           "gridcolor": "white",
           "linecolor": "white",
           "ticks": "",
           "title": {
            "standoff": 15
           },
           "zerolinecolor": "white",
           "zerolinewidth": 2
          }
         }
        }
       }
      }
     },
     "metadata": {},
     "output_type": "display_data"
    }
   ],
   "source": [
    "# Filter the data, and plot both the original and filtered signals.\n",
    "y = butter_lowpass_filter(data, cutoff, fs, order)\n",
    "fig = go.Figure()\n",
    "fig.add_trace(go.Scatter(\n",
    "            y = data,\n",
    "            line =  dict(shape =  'spline' ),\n",
    "            name = 'signal with noise'\n",
    "            ))\n",
    "fig.add_trace(go.Scatter(\n",
    "            y = y,\n",
    "            line =  dict(shape =  'spline' ),\n",
    "            name = 'filtered signal'\n",
    "            ))\n",
    "fig.show()"
   ]
  },
  {
   "cell_type": "markdown",
   "metadata": {},
   "source": [
    "![Gráfico 1.  Representación estatica del gráfico interactivo que contiene la señal con ruido y la señal filtrada.](1.png)\n",
    "\n",
    "Gráfico 1.  Representación estatica del gráfico interactivo que contiene la señal con ruido y la señal filtrada.\n"
   ]
  },
  {
   "cell_type": "markdown",
   "metadata": {},
   "source": [
    "<div style=\"text-align: justify;\">\n",
    "<p>\n",
    "\n",
    "Acá se utiliza la función butter_lowpass_filter para filtrar la señal original data con los parámetros especificados (frecuencia de corte, tasa de muestreo y orden del filtro). La señal filtrada se guarda en la variable y.\n",
    "\n",
    "También, se crea una figura vacía utilizando la clase go.Figure() de Plotly, que se utilizará para agregar las trazas de las señalesy se añade una traza al gráfico para la señal original con ruido (data). Se utiliza una línea suavizada ('spline') para visualizar la forma de la señal.\n",
    "\n",
    "Se añade otra traza al gráfico para la señal filtrada (y).\n",
    "\n",
    "Finalmente, se muestra el gráfico interactivo que contiene ambas trazas (señal original y señal filtrada).\n",
    "\n",
    "</p>\n",
    "</div>"
   ]
  },
  {
   "cell_type": "markdown",
   "metadata": {},
   "source": [
    "<div style=\"text-align: justify;\">\n",
    "<p>\n",
    "\n",
    "### Paso 5 : Cálcular Transformada de la señal filtrada y sin filtrar y sus respectivos gráficos\n",
    "\n",
    "</p>\n",
    "</div>"
   ]
  },
  {
   "cell_type": "code",
   "execution_count": 11,
   "metadata": {},
   "outputs": [
    {
     "data": {
      "image/png": "[encoded data removed]",
      "text/plain": [
       "<Figure size 1200x600 with 2 Axes>"
      ]
     },
     "metadata": {},
     "output_type": "display_data"
    }
   ],
   "source": [
    "# Calcula la transformada de Fourier de la señal original\n",
    "fft_original = np.fft.fft(data)\n",
    "fft_freq_original = np.fft.fftfreq(len(fft_original), T/fs)\n",
    "\n",
    "# Calcula la transformada de Fourier de la señal filtrada\n",
    "fft_filtered = np.fft.fft(y)\n",
    "fft_freq_filtered = np.fft.fftfreq(len(fft_filtered), T/fs)\n",
    "\n",
    "# Crea un gráfico para la transformada de Fourier de la señal original\n",
    "plt.figure(figsize=(12, 6))\n",
    "plt.subplot(2, 1, 1)\n",
    "plt.plot(fft_freq_original, np.abs(fft_original))\n",
    "plt.title('Transformada de Fourier de la señal con ruido')\n",
    "plt.xlabel('Frecuencia (Hz)')\n",
    "plt.ylabel('Amplitud')\n",
    "\n",
    "# Crea un gráfico para la transformada de Fourier de la señal filtrada\n",
    "plt.subplot(2, 1, 2)\n",
    "plt.plot(fft_freq_filtered, np.abs(fft_filtered))\n",
    "plt.title('Transformada de Fourier de la señal filtrada')\n",
    "plt.xlabel('Frecuencia (Hz)')\n",
    "plt.ylabel('Amplitud')\n",
    "\n",
    "plt.tight_layout()\n",
    "plt.show()"
   ]
  },
  {
   "cell_type": "markdown",
   "metadata": {},
   "source": [
    "![Gráfico 2.  Representación de la transformada de Fourier de dos espectros, el primero es de la señal con ruido, y el segundo de la señal filtrada](2.png)\n",
    "\n",
    "Gráfico 2.  Representación de la transformada de Fourier de dos espectros, el primero es de la señal con ruido, y el segundo de la señal filtrada."
   ]
  },
  {
   "cell_type": "markdown",
   "metadata": {},
   "source": [
    "<div style=\"text-align: justify;\">\n",
    "<p>\n",
    "\n",
    "Acá se utiliza la función np.fft.fft para calcular la transformada de Fourier de la señal original (data). Además, se calculan las frecuencias correspondientes utilizando np.fft.fftfreq.\n",
    "\n",
    "Se crean dos gráficos utilizando matplotlib. El primer gráfico muestra la transformada de Fourier de la señal original, y el segundo gráfico muestra la transformada de Fourier de la señal filtrada. Ambos gráficos tienen etiquetas y títulos para facilitar la interpretación.\n",
    "\n",
    "Además, se ajusta el diseño de los gráficos para evitar solapamientos y se muestran ambos gráficos.\n"
   ]
  },
  {
   "cell_type": "markdown",
   "metadata": {},
   "source": [
    "<div style=\"text-align: justify;\">\n",
    "<p>\n",
    "\n",
    "# II. Resultados:\n",
    "\n",
    "Resumiendo lo que se explicó anteriormente: se aplicó un filtro Butterworth a una señal compuesta, inicialmente formada por una onda sinusoidal y ruido. Los resultados se visualizaron mediante gráficos que muestran la transformada de Fourier de la señal original y la señal filtrada. Estos gráficos proporcionan una representación clara de las frecuencias presentes en ambas señales, permitiendo observar cómo el filtro afecta la distribución espectral.\n",
    "\n",
    "# III. Conclusiones:\n",
    "\n",
    "- La aplicación del filtro Butterworth logró atenuar eficazmente el ruido presente en la señal compuesta, preservando la componente sinusoidal de interés.\n",
    "\n",
    "- La visualización de las transformadas de Fourier antes y después del filtrado facilitó la comprensión de cómo el filtro influye en las frecuencias presentes en la señal.\n",
    "\n",
    "- La elección de parámetros del filtro, como la frecuencia de corte y el orden, impacta directamente en la eficacia del proceso de filtrado.\n",
    "\n",
    "- Esta forma de procesamiento de señales resulta útil en situaciones donde es crucial resaltar componentes específicos de una señal, eliminando el ruido no deseado.\n",
    "\n",
    "# IV. Bibliografía:\n",
    "\n",
    "Jirafe, N. (2022, 30 marzo). How to filter noise with a low pass filter — Python. Medium. https://medium.com/analytics-vidhya/how-to-filter-noise-with-a-low-pass-filter-python-885223e5e9b7\n",
    "\n",
    "Cabrera, C., J. (s. f.). Filtros Activos. https://www2.ulpgc.es/hege/almacen/download/29/29861/filtros.pdf\n",
    "\n",
    "\n",
    "</p>\n",
    "</div>"
   ]
  },
  {
   "cell_type": "markdown",
   "metadata": {},
   "source": [
    "\n",
    "</p>\n",
    "</div>"
   ]
  }
 ],
 "metadata": {
  "kernelspec": {
   "display_name": "Python 3",
   "language": "python",
   "name": "python3"
  },
  "language_info": {
   "codemirror_mode": {
    "name": "ipython",
    "version": 3
   },
   "file_extension": ".py",
   "mimetype": "text/x-python",
   "name": "python",
   "nbconvert_exporter": "python",
   "pygments_lexer": "ipython3",
   "version": "3.12.0"
  }
 },
 "nbformat": 4,
 "nbformat_minor": 2
}
